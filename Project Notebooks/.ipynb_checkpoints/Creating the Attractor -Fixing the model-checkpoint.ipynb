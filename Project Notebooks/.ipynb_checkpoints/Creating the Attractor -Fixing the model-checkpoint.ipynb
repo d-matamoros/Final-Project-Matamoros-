{
 "cells": [
  {
   "cell_type": "code",
   "execution_count": 5,
   "metadata": {},
   "outputs": [],
   "source": [
    "import numpy as np\n",
    "import matplotlib.pyplot as plt\n",
    "%matplotlib inline"
   ]
  },
  {
   "cell_type": "code",
   "execution_count": 6,
   "metadata": {},
   "outputs": [],
   "source": [
    "y_0 = np.array([1.]) # Initial condition"
   ]
  },
  {
   "cell_type": "code",
   "execution_count": 345,
   "metadata": {},
   "outputs": [],
   "source": [
    "gravity_acc       = 10. # [m /s2]\n",
    "mass    = 0.001 #  test mass in [kg]\n",
    "damping_parameter = 0.0000089 # viscosity of water @ room temperature [ kg /m^2]\n",
    "spring_const = .009 # arbitrary spring const. not sure what this would be in reality \n",
    "R = .00009\n",
    "m_0 = 0.0001 \n",
    "delta_m= 0.0001\n",
    "x_c = 0.150\n",
    "\n",
    "N = 10000\n",
    "t = np.linspace(0., 10., N+1) # [s] an array of time steps"
   ]
  },
  {
   "cell_type": "code",
   "execution_count": 346,
   "metadata": {},
   "outputs": [
    {
     "name": "stdout",
     "output_type": "stream",
     "text": [
      "9e-05\n"
     ]
    }
   ],
   "source": [
    "solve_args  = {}\n",
    "solve_args['k'] = spring_const\n",
    "solve_args['m_0']  = m_0\n",
    "solve_args['g'] = gravity_acc\n",
    "solve_args['capital gamma'] = damping_parameter +R\n",
    "#not applying chain rule above\n",
    "solve_args['R'] = R\n",
    "solve_args['m_0']  = m_0\n",
    "print(solve_args['R'])\n",
    "initial_pos    = 0. # [m]\n",
    "initial_vel = 0.001   # [m /s]\n",
    "initial_cond    = np.array([initial_pos, initial_vel])"
   ]
  },
  {
   "cell_type": "code",
   "execution_count": 347,
   "metadata": {},
   "outputs": [],
   "source": [
    "def RungeKutta4_Drop(func, y_0, x, x_c, delta_m, args):\n",
    "    #print(args)\n",
    "    \n",
    "    # Initialise the approximation array\n",
    "    y = np.zeros([len(x), len(y_0)])\n",
    "    #print(y.shape)\n",
    "    drop_times = np.zeros([])  \n",
    "    y[0] = y_0\n",
    "\n",
    "    # Loop through the time steps, approximating this step from the prev step\n",
    "    for i, x_i in enumerate(x[:-1]):\n",
    "        change = 0\n",
    "        h   = x[i+1] - x_i # size of the step\n",
    "        #print('x_i is:{}' .format(x_i)) \n",
    "        #print('x[i+1] is: {}' .format(x[i+1])) \n",
    "\n",
    "        k_1 = h*func(x_i        , y[i]          ,x_c, change, args)\n",
    "        k_2 = h*func(x_i + h/2. , y[i] + k_1/2. ,x_c, change, args)\n",
    "        k_3 = h*func(x_i + h/2. , y[i] + k_2/2. ,x_c, change, args)\n",
    "        k_4 = h*func(x_i + h    , y[i] + k_3    ,x_c, change, args)\n",
    "\n",
    "        y[i+1] = y[i] + 1/6.*(k_1 + 2.*k_2 + 2.*k_3 + k_4) # RK4 step\n",
    "        #print(args)\n",
    "        if y[i+1][0] < x_c: \n",
    "            #print('no change')\n",
    "            #print(args)\n",
    "            continue \n",
    "        elif y[i+1][0] >= x_c: \n",
    "            #print('THIS IS DROP TIMES ') \n",
    "            #print('x_i is:{}' .format(x_i)) \n",
    "            #print('x[i+1] is: {}' .format(x[i+1]))\n",
    "            drop_times = np.append(drop_times, x[i+1])  \n",
    "            #print('change')\n",
    "            change = args['R']*x[i+1]\n",
    "            h   = x[i+1] - x_i # size of the step\n",
    "            \n",
    "            k_1 = h*func(x_i, y[i],x_c,                  change, args)\n",
    "            k_2 = h*func(x_i + h/2. , y[i] + k_1/2.,x_c, change,args)\n",
    "            k_3 = h*func(x_i + h/2. , y[i] + k_2/2.,x_c, change,args)\n",
    "            k_4 = h*func(x_i + h    , y[i] + k_3,   x_c, change,args)\n",
    "            \n",
    "            y[i+1] = y[i] + 1/6.*(k_1 + 2.*k_2 + 2.*k_3 + k_4) # RK4 step\n",
    "            #print(args)\n",
    "            continue \n",
    "    #drop_times = np.delete(drop_times,0)\n",
    "    #print(args)\n",
    "    return y, drop_times "
   ]
  },
  {
   "cell_type": "code",
   "execution_count": 348,
   "metadata": {},
   "outputs": [],
   "source": [
    "def VariableMass_Oscillator_Drop(t, y,x_c,delta_m, args):\n",
    "    \"\"\" A damped and forced Oscillating Droplet, described as set of two first-order ODEs.\n",
    "\n",
    "    Args:\n",
    "        m : mass equal to m_0 + Rt where R is some constant rate  \n",
    "        t: Time\n",
    "        y: Pendulum system vector [position,  velocity] \n",
    "        args['ka']: spring_const\n",
    "        args['m_0']: initial mass\n",
    "        args['gamma']: viscous damping\n",
    "        args['R']: Rate of mass change \n",
    "        args['capital gamma']: gamma + R \n",
    "        args['g']: gravitational const. \n",
    "\n",
    "    Returns:\n",
    "        dzdt: ODE vector\n",
    "    \"\"\"\n",
    "    \n",
    "    #print(args)\n",
    "\n",
    "    dzdt = np.zeros(2)\n",
    "\n",
    "    dzdt[0] = y[1]\n",
    "    dzdt[1] = (((-1. * args['k'])/(args['m_0'] + args['R']*t - delta_ms))*y[0] - ((args['capital gamma'])/((args['m_0'] + args['R']*t - delta_m)))*y[1] + args['g']) \n",
    "    return dzdt"
   ]
  },
  {
   "cell_type": "code",
   "execution_count": 349,
   "metadata": {},
   "outputs": [],
   "source": [
    "#using altered Runge Kutta \n",
    "#dropping off inside runge kutta \n",
    "solution, times = RungeKutta4_Drop(VariableMass_Oscillator_Drop, initial_cond, t, x_c, delta_m, solve_args)\n"
   ]
  },
  {
   "cell_type": "code",
   "execution_count": 350,
   "metadata": {},
   "outputs": [
    {
     "data": {
      "image/png": "[encoded data removed]",
      "text/plain": [
       "<Figure size 432x288 with 1 Axes>"
      ]
     },
     "metadata": {},
     "output_type": "display_data"
    }
   ],
   "source": [
    "plt.plot(t, solution[:,0], c='b', label='Angle')\n",
    "#plt.plot(t, solved, 'r--', label='Small angle approx.')\n",
    "plt.xlabel('Time (s)')\n",
    "plt.ylabel('Position (m)')\n",
    "plt.title('Evolution of Damped Droplet Oscillator Over Time With Variable mass')\n",
    "plt.legend(loc=1)\n",
    "plt.show()"
   ]
  },
  {
   "cell_type": "code",
   "execution_count": 351,
   "metadata": {},
   "outputs": [
    {
     "name": "stdout",
     "output_type": "stream",
     "text": [
      "[ 0.     0.207  0.208 ...  9.998  9.999 10.   ]\n",
      "6104\n",
      "\n",
      "6103\n"
     ]
    }
   ],
   "source": [
    "print(times) \n",
    "print(len(times)) \n",
    "print() \n",
    "intervalz = np.empty([len(times)-1])\n",
    "print(len(intervalz))"
   ]
  },
  {
   "cell_type": "code",
   "execution_count": 352,
   "metadata": {},
   "outputs": [
    {
     "name": "stdout",
     "output_type": "stream",
     "text": [
      "[1 2 3 4 5]\n"
     ]
    }
   ],
   "source": [
    "a = np.array([1,2,3,4,5])\n",
    "print(a) "
   ]
  },
  {
   "cell_type": "code",
   "execution_count": 353,
   "metadata": {},
   "outputs": [],
   "source": [
    "def Intervals(times): #defining interval finding function for time array \n",
    "    interval = np.empty([len(times) -1])\n",
    "    for k in range(len(interval)): \n",
    "        interval[k] = times[k+1] - times[k]\n",
    "    next_interval = interval[1:]\n",
    "    interval = interval[0:len(times)-2]\n",
    "    return interval, next_interval  \n",
    "    "
   ]
  },
  {
   "cell_type": "code",
   "execution_count": 354,
   "metadata": {},
   "outputs": [
    {
     "name": "stdout",
     "output_type": "stream",
     "text": [
      "[0.207 0.001 0.001 ... 0.003 0.001 0.001]\n",
      "6102\n",
      "\n",
      "[0.001 0.001 0.001 ... 0.001 0.001 0.001]\n",
      "6102\n"
     ]
    }
   ],
   "source": [
    "interval, next_inter = Intervals(times) \n",
    "print(interval) \n",
    "print(len(interval))\n",
    "print() \n",
    "print(next_inter)\n",
    "print(len(next_inter))"
   ]
  },
  {
   "cell_type": "code",
   "execution_count": 355,
   "metadata": {},
   "outputs": [
    {
     "data": {
      "image/png": "[encoded data removed]",
      "text/plain": [
       "<Figure size 432x288 with 1 Axes>"
      ]
     },
     "metadata": {},
     "output_type": "display_data"
    }
   ],
   "source": [
    "plt.scatter(interval, next_inter, c='r', s = 10)\n",
    "plt.scatter(interval, next_inter, c='g', s = 10)\n",
    "plt.scatter(interval, next_inter, c='r', s = 10)\n",
    "#plt.plot(t, solved, 'r--', label='Small angle approx.')\n",
    "plt.xlabel('Tn')\n",
    "plt.ylabel('Tn+1')\n",
    "plt.title('Interval vs Next interval')\n",
    "plt.show()"
   ]
  },
  {
   "cell_type": "code",
   "execution_count": 278,
   "metadata": {},
   "outputs": [],
   "source": [
    "#run the above code for many values of R \n",
    "\n",
    "#graph tn on x vs r on y "
   ]
  },
  {
   "cell_type": "code",
   "execution_count": 356,
   "metadata": {},
   "outputs": [],
   "source": [
    "from matplotlib.colors import LogNorm\n",
    "\n",
    "def CreateAttractor(t,func, Rk4, lower_range, upper_range, Runs): \n",
    "    fig, ax = plt.subplots() #Set up axes\n",
    "    ax.set_xlabel('Tn')\n",
    "    ax.set_ylabel('Tn+1')\n",
    "    ax.set_title('Tn vs Tn+1')\n",
    "    gravity_acc       = 10. # [m /s2]\n",
    "    mass    = 0.001 #  test mass in [kg]\n",
    "    damping_parameter = 0.00089 # viscosity of water @ room temperature [ kg /m^2]\n",
    "    spring_const = .9 # arbitrary spring const. not sure what this would be in reality \n",
    "  \n",
    "    m_0               = 0.001 \n",
    "    delta_m           = 0.001\n",
    "    x_c               = 0.0150\n",
    "    initial_pos       = 0. # [m]\n",
    "    initial_vel       = 0.001   # [m /s]\n",
    "    N = 10000\n",
    "    t = np.linspace(0., 10., N+1)\n",
    "    initial_cond      = np.array([initial_pos, initial_vel])\n",
    "    x = [] \n",
    "    \n",
    "    Rset              = np.linspace(lower_range ,upper_range, Runs)\n",
    "    \n",
    "    for Rs in range(len(Rset)): \n",
    "        R = Rset[Rs]\n",
    "        print(R) \n",
    "        solve_args  = {}\n",
    "        solve_args['k'] = spring_const\n",
    "        solve_args['m_0']  = m_0\n",
    "        solve_args['g'] = gravity_acc\n",
    "        solve_args['capital gamma'] = R + damping_parameter \n",
    "        solve_args['R'] = R\n",
    "        #print(solve_args['R'])\n",
    "        solve_args['m_0']  = m_0\n",
    "        \n",
    "        solution, times = Rk4(func, initial_cond, t, x_c, delta_m, solve_args)\n",
    "\n",
    "        interval_r, next_inter_r = Intervals(times) \n",
    "        \n",
    "        ax.scatter(interval,next_inter,s=10 ,c = '#666666')\n",
    "    #plt.hist2d(interval, next_inter, bins=(25, 25), cmap=plt.cm.jet, norm=LogNorm())\n",
    "    #plt.colorbar()\n",
    "    #ax.set_xlim(0,0.5)\n",
    "    #ax.set_ylim(0,0.35)\n",
    "        \n",
    "        \n"
   ]
  },
  {
   "cell_type": "code",
   "execution_count": 357,
   "metadata": {},
   "outputs": [
    {
     "name": "stdout",
     "output_type": "stream",
     "text": [
      "0.0001\n",
      "0.00017435897435897436\n",
      "0.00024871794871794874\n",
      "0.00032307692307692305\n",
      "0.0003974358974358974\n",
      "0.0004717948717948718\n",
      "0.0005461538461538462\n",
      "0.0006205128205128206\n",
      "0.0006948717948717949\n",
      "0.0007692307692307692\n",
      "0.0008435897435897437\n",
      "0.000917948717948718\n",
      "0.0009923076923076923\n",
      "0.0010666666666666667\n",
      "0.0011410256410256411\n",
      "0.0012153846153846154\n",
      "0.0012897435897435898\n",
      "0.0013641025641025642\n",
      "0.0014384615384615384\n",
      "0.0015128205128205128\n",
      "0.0015871794871794873\n",
      "0.0016615384615384615\n",
      "0.001735897435897436\n",
      "0.0018102564102564103\n",
      "0.0018846153846153845\n",
      "0.001958974358974359\n",
      "0.002033333333333333\n",
      "0.0021076923076923074\n",
      "0.002182051282051282\n",
      "0.0022564102564102562\n",
      "0.0023307692307692304\n",
      "0.002405128205128205\n",
      "0.0024794871794871793\n",
      "0.0025538461538461535\n",
      "0.002628205128205128\n",
      "0.0027025641025641024\n",
      "0.0027769230769230766\n",
      "0.002851282051282051\n",
      "0.0029256410256410254\n",
      "0.003\n",
      "None\n"
     ]
    },
    {
     "data": {
      "image/png": "[encoded data removed]",
      "text/plain": [
       "<Figure size 432x288 with 1 Axes>"
      ]
     },
     "metadata": {},
     "output_type": "display_data"
    }
   ],
   "source": [
    "print(CreateAttractor(t,VariableMass_Oscillator_Drop, RungeKutta4_Drop,0.0001, 0.003,40))"
   ]
  },
  {
   "cell_type": "code",
   "execution_count": null,
   "metadata": {},
   "outputs": [],
   "source": []
  },
  {
   "cell_type": "code",
   "execution_count": 34,
   "metadata": {},
   "outputs": [],
   "source": [
    "#getting opposite effect? "
   ]
  },
  {
   "cell_type": "code",
   "execution_count": 59,
   "metadata": {},
   "outputs": [],
   "source": [
    "#plot tin vs r "
   ]
  },
  {
   "cell_type": "code",
   "execution_count": null,
   "metadata": {},
   "outputs": [],
   "source": [
    "#Make 3d! \n",
    "#histograms?\n",
    "#bifurcation diagrams? "
   ]
  },
  {
   "cell_type": "code",
   "execution_count": 127,
   "metadata": {},
   "outputs": [
    {
     "name": "stdout",
     "output_type": "stream",
     "text": [
      "6e-06\n"
     ]
    },
    {
     "name": "stderr",
     "output_type": "stream",
     "text": [
      "C:\\Users\\diego\\AppData\\Local\\Continuum\\anaconda3\\lib\\site-packages\\ipykernel_launcher.py:24: RuntimeWarning: overflow encountered in double_scalars\n",
      "C:\\Users\\diego\\AppData\\Local\\Continuum\\anaconda3\\lib\\site-packages\\ipykernel_launcher.py:24: RuntimeWarning: invalid value encountered in double_scalars\n"
     ]
    }
   ],
   "source": [
    "# Low R value Attractor for single flow rate \n",
    "\n",
    "gravity_acc       = 10. # [m /s2]\n",
    "mass    = 0.001 #  test mass in [kg]\n",
    "damping_parameter = 0.0000089 # viscosity of water @ room temperature [ kg /m^2]\n",
    "spring_const = .9 # arbitrary spring const. not sure what this would be in reality \n",
    "R = 0.000006\n",
    "m_0 = 0.001 \n",
    "delta_m= 0.001\n",
    "x_c = 0.0150\n",
    "\n",
    "N = 100\n",
    "t = np.linspace(0., 10., N+1) # [s] an array of time steps\n",
    "\n",
    "solve_args  = {}\n",
    "solve_args['k'] = spring_const\n",
    "solve_args['m_0']  = m_0\n",
    "solve_args['g'] = gravity_acc\n",
    "solve_args['capital gamma'] = damping_parameter +R\n",
    "#not applying chain rule above\n",
    "solve_args['R'] = R\n",
    "solve_args['m_0']  = m_0\n",
    "print(solve_args['R'])\n",
    "initial_pos    = 0. # [m]\n",
    "initial_vel = 0.0001   # [m /s]\n",
    "initial_cond    = np.array([initial_pos, initial_vel])\n",
    "\n",
    "solution, times1 = RungeKutta4_Drop(VariableMass_Oscillator_Drop, initial_cond, t, x_c, delta_m, solve_args)\n",
    "\n",
    "\n"
   ]
  },
  {
   "cell_type": "code",
   "execution_count": 128,
   "metadata": {},
   "outputs": [
    {
     "data": {
      "image/png": "[encoded data removed]",
      "text/plain": [
       "<Figure size 432x288 with 1 Axes>"
      ]
     },
     "metadata": {},
     "output_type": "display_data"
    }
   ],
   "source": [
    "plt.plot(t, solution[:,0], c='b', label='Angle')\n",
    "#plt.plot(t, solved, 'r--', label='Small angle approx.')\n",
    "plt.xlabel('Time (s)')\n",
    "plt.ylabel('Position (m)')\n",
    "plt.title('Evolution of Damped Droplet Oscillator Over Time With Variable mass')\n",
    "plt.legend(loc=1)\n",
    "plt.show()"
   ]
  },
  {
   "cell_type": "code",
   "execution_count": 129,
   "metadata": {
    "scrolled": true
   },
   "outputs": [
    {
     "data": {
      "image/png": "[encoded data removed]",
      "text/plain": [
       "<Figure size 432x288 with 1 Axes>"
      ]
     },
     "metadata": {},
     "output_type": "display_data"
    }
   ],
   "source": [
    "interval, next_inter = Intervals(times1) \n",
    "\n",
    "plt.scatter(interval, next_inter, c='r', s = 10)\n",
    "plt.scatter(interval, next_inter, c='g', s = 10)\n",
    "plt.scatter(interval, next_inter, c='r', s = 10)\n",
    "#plt.plot(t, solved, 'r--', label='Small angle approx.')\n",
    "plt.xlabel('Tn')\n",
    "plt.ylabel('Tn+1')\n",
    "plt.title('Interval between Drops as function of previous Interval at R = {}' .format(R))\n",
    "plt.show()"
   ]
  },
  {
   "cell_type": "code",
   "execution_count": null,
   "metadata": {},
   "outputs": [],
   "source": []
  },
  {
   "cell_type": "code",
   "execution_count": null,
   "metadata": {},
   "outputs": [],
   "source": []
  }
 ],
 "metadata": {
  "kernelspec": {
   "display_name": "Python 3",
   "language": "python",
   "name": "python3"
  },
  "language_info": {
   "codemirror_mode": {
    "name": "ipython",
    "version": 3
   },
   "file_extension": ".py",
   "mimetype": "text/x-python",
   "name": "python",
   "nbconvert_exporter": "python",
   "pygments_lexer": "ipython3",
   "version": "3.6.5"
  }
 },
 "nbformat": 4,
 "nbformat_minor": 2
}
