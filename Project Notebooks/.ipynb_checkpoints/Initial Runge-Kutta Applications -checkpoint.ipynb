{
 "cells": [
  {
   "cell_type": "markdown",
   "metadata": {},
   "source": [
    "# Goal: Solve Chua Circuit System of Equations using Runge-Kutta Methods \n"
   ]
  },
  {
   "cell_type": "code",
   "execution_count": 2,
   "metadata": {},
   "outputs": [],
   "source": [
    "# will use set of dimensionless equations foudn from paper in this link \n"
   ]
  },
  {
   "cell_type": "markdown",
   "metadata": {},
   "source": [
    "\\begin{align}\n",
    "\\dot{I_3} & = \\frac{-1}{L} V_2\\\\\n",
    "\\dot{V_2} & = \\frac{1}{C_2}I_3 - \\frac{G}{C_2}V_2 -\\frac{G}{C_2}V_1\\\\\n",
    "\\dot{V_1} & = \\frac{G}{C_2} - \\frac{1}{C_1}f(V_1)\\\\\n",
    "\\end{align}\n",
    "\n",
    "NOT SURE WHAT F(V1) SUPPOSED TO REPRESENT: \n",
    "\n",
    "The literature had it as a piecewise function that had various definitions depending on the paper i read. Given my lack of familiarlity with the subject and the time i was investing on just getting a grip on the physics i thought it best to try applying my work to the Dripping Faucet Problem \n",
    "\n",
    "where \n",
    " \\begin{align} \n",
    " \\f(V_1) & = \\begin{cases} "
   ]
  },
  {
   "cell_type": "markdown",
   "metadata": {},
   "source": [
    "# GOAL: Solve motion ODE for Dripping Faucet Using Runge-Kutta Methods\n",
    "\n"
   ]
  },
  {
   "cell_type": "code",
   "execution_count": 308,
   "metadata": {},
   "outputs": [],
   "source": [
    "import numpy as np\n",
    "import matplotlib.pyplot as plt\n",
    "%matplotlib inline"
   ]
  },
  {
   "cell_type": "code",
   "execution_count": 309,
   "metadata": {},
   "outputs": [],
   "source": [
    "y_0 = np.array([1.]) # Initial condition"
   ]
  },
  {
   "cell_type": "code",
   "execution_count": 312,
   "metadata": {},
   "outputs": [],
   "source": [
    "def RungeKutta4(func, y_0, x, args={}):\n",
    "    \"\"\" Classical Runge-Kutta (RK4) approximation to a first-order ODE system\n",
    "    with initial conditions.\n",
    "\n",
    "    Args:\n",
    "        func: (callable) The first-order ODE system to be approximated.\n",
    "        y_0:  (array)    The initial condition.\n",
    "        x:    (array)    A sequence of time points for which to solve for y.\n",
    "        args: (dict)     Extra arguments to pass to function.\n",
    "\n",
    "    Out:\n",
    "        y:    (array)    The approximated solution of the system at each time in t,\n",
    "                         with the initial value y_0 in the first row.\n",
    "    \"\"\"\n",
    "\n",
    "    # Initialise the approximation array\n",
    "    y = np.zeros([len(x), len(y_0)])\n",
    "    y[0] = y_0\n",
    "\n",
    "    # Loop through the time steps, approximating this step from the prev step\n",
    "    for i, x_i in enumerate(x[:-1]):\n",
    "\n",
    "        h   = x[i+1] - x_i # size of the step\n",
    "\n",
    "        k_1 = h*func(x_i, y[i], args)\n",
    "        k_2 = h*func(x_i + h/2. , y[i] + k_1/2., args)\n",
    "        k_3 = h*func(x_i + h/2. , y[i] + k_2/2., args)\n",
    "        k_4 = h*func(x_i + h    , y[i] + k_3, args)\n",
    "\n",
    "        y[i+1] = y[i] + 1/6.*(k_1 + 2.*k_2 + 2.*k_3 + k_4) # RK4 step\n",
    "\n",
    "    return y"
   ]
  },
  {
   "cell_type": "markdown",
   "metadata": {},
   "source": [
    "The Equation Of Motion that describes this system when mass is constant is given by\n",
    "\\begin{align}\n",
    "\\ddot{x} & = \\frac{-k}{m} x -\\frac{\\gamma}{m} \\dot{x} + g\\\\\n",
    "\\end{align}\n",
    "\n",
    "we now simplify variables in the case of a constant mass (no chaotic behavior in this case)  \n",
    "\n",
    "\\begin{align} \n",
    "\\frac{\\gamma}{m} & = \\xi \\\\\n",
    "\\frac{k}{m} & = \\nu \\\\\n",
    "\\end{align}\n",
    "\n",
    "So the equation becomes \n",
    "\n",
    "\\begin{align}\n",
    "\\ddot{x} & = -\\nu x -\\xi \\dot{x} + g\\\\\n",
    "\\end{align}\n",
    "\n",
    "using folllowing substitutions in order to create two coupled ODES (NB: Not sure if this step is valid?) \n",
    "\\begin{align} \n",
    "y_0 & = x \\\\\n",
    "y_1 & = \\dot{x} \\\\\n",
    "y_2 & = \\ddot{x} \\\\\n",
    "\\end{align}\n",
    "We then Obtain the coupled ODE's \n",
    "\\begin{align} \n",
    "y_0 ' & = y_1 \\\\\n",
    "y_1 ' & = -\\nu y_0 -\\xi y_1 + g\\\\\n",
    "\\end{align}"
   ]
  },
  {
   "cell_type": "code",
   "execution_count": 6,
   "metadata": {},
   "outputs": [],
   "source": [
    "#NEXT STEP: SPLIT UP INTO TWO EQUATIONS AND RUN RK4 "
   ]
  },
  {
   "cell_type": "code",
   "execution_count": 294,
   "metadata": {},
   "outputs": [],
   "source": [
    "def DropOscillator(t, y, args):\n",
    "    \"\"\" A damped and forced Oscillating Droplet, described as set of two first-order ODEs.\n",
    "\n",
    "    Args:\n",
    "        m : for this first step I will assume a constant mass to make the problem slighly easier, threshold will be set later \n",
    "        t: Time\n",
    "        y: Pendulum system vector [position,  velocity] \n",
    "        args['nu']: spring_const/mass\n",
    "        args['xi']: viscous damping/ mass \n",
    "        args['g']: gravitational const. \n",
    "\n",
    "    Returns:\n",
    "        dydt: ODE vector\n",
    "    \"\"\"\n",
    "\n",
    "    dydt = np.zeros(2)\n",
    "\n",
    "    dydt[0] = y[1] #unclear as to hwo this step works \n",
    "    dydt[1] = (-args['nu']*y[0] - args['xi']*y[1] + args['g']) \n",
    "\n",
    "    return dydt"
   ]
  },
  {
   "cell_type": "markdown",
   "metadata": {},
   "source": [
    "We now define Parameters "
   ]
  },
  {
   "cell_type": "code",
   "execution_count": 295,
   "metadata": {},
   "outputs": [
    {
     "name": "stdout",
     "output_type": "stream",
     "text": [
      "[0.000e+00 1.000e-03 2.000e-03 ... 9.998e+00 9.999e+00 1.000e+01]\n"
     ]
    },
    {
     "data": {
      "text/plain": [
       "10001"
      ]
     },
     "execution_count": 295,
     "metadata": {},
     "output_type": "execute_result"
    }
   ],
   "source": [
    "gravity_acc       = 10. # [m /s2]\n",
    "mass    = 0.001 #  test mass in [kg]\n",
    "damping_parameter = 0.00089 # viscosity of water @ room temperature [ kg /m^2]\n",
    "spring_const = 0.1 # arbitrary spring const. not sure what this would be in reality \n",
    "\n",
    "N = 10000\n",
    "t = np.linspace(0., 10., N+1) # [s] an array of time steps\n",
    "print(t)\n",
    "len(t)"
   ]
  },
  {
   "cell_type": "code",
   "execution_count": 314,
   "metadata": {},
   "outputs": [],
   "source": [
    "solve_args          = {}\n",
    "solve_args['nu'] = spring_const/mass\n",
    "solve_args['xi']  = damping_parameter/mass\n",
    "solve_args['g'] = gravity_acc\n",
    "\n",
    "initial_pos    = 0. # [m]\n",
    "initial_vel = 0.1   # [m /s]\n",
    "initial_cond    = np.array([initial_pos, initial_vel])"
   ]
  },
  {
   "cell_type": "code",
   "execution_count": 297,
   "metadata": {},
   "outputs": [
    {
     "name": "stdout",
     "output_type": "stream",
     "text": [
      "[[ 0.00000000e+00  1.00000000e-01]\n",
      " [ 1.04952323e-04  1.09901427e-01]\n",
      " [ 2.19796257e-04  1.19783061e-01]\n",
      " ...\n",
      " [ 9.90301651e-02 -6.11903411e-03]\n",
      " [ 9.90240974e-02 -6.01634610e-03]\n",
      " [ 9.90181326e-02 -5.91314807e-03]]\n"
     ]
    }
   ],
   "source": [
    "y = RungeKutta4(DropOscillator, initial_cond, t, solve_args)\n",
    "print(y)"
   ]
  },
  {
   "cell_type": "code",
   "execution_count": 315,
   "metadata": {},
   "outputs": [
    {
     "data": {
      "image/png": "[encoded data removed]",
      "text/plain": [
       "<Figure size 432x288 with 1 Axes>"
      ]
     },
     "metadata": {},
     "output_type": "display_data"
    }
   ],
   "source": [
    "from scipy.integrate import odeint\n",
    "\n",
    "#\\solved = odeint(DropOscillator, initial_cond, t, args=(solve_args,))\n",
    "\n",
    "# Solve Pendulum ODE with RK2 or RK4\n",
    "y = RungeKutta4(DropOscillator, initial_cond, t, solve_args)\n",
    "\n",
    "plt.plot(t, y[:,0], c='b', label='Angle')\n",
    "#plt.plot(t, solved, 'r--', label='Small angle approx.')\n",
    "plt.xlabel('Time (s)')\n",
    "plt.ylabel('Position (m)')\n",
    "plt.title('Evolution of Damped Droplet Oscillator Over Time')\n",
    "plt.legend(loc=1)\n",
    "plt.show()"
   ]
  },
  {
   "cell_type": "code",
   "execution_count": null,
   "metadata": {},
   "outputs": [],
   "source": [
    "# for mass = 0.001kg? any lower than that and graph that seems wrong appears, we would need a very small kg to get mass of drop correct however \n"
   ]
  },
  {
   "cell_type": "markdown",
   "metadata": {},
   "source": [
    "At this point we want to include the fact that the mass is continually increasing "
   ]
  },
  {
   "cell_type": "markdown",
   "metadata": {},
   "source": [
    "The Equation Of Motion that describes this system when mass is constant is given by\n",
    "\\begin{align}\n",
    "\\ddot{x} & = \\frac{-k}{m} x -\\frac{\\gamma}{m} \\dot{x} + g\\\\\n",
    "\\end{align}\n"
   ]
  },
  {
   "cell_type": "markdown",
   "metadata": {},
   "source": [
    "The Equation Of Motion that describes this system when mass is constant is given by\n",
    "\\begin{align}\n",
    "\\ddot{x} & = \\frac{-k}{m(t)} x -\\frac{(\\gamma +R)}{m(t)} \\dot{x} + g\\\\\n",
    "\\end{align}\n",
    "\n",
    "where R is the rate of change of the mass \n",
    "\n",
    "Expanding the function m(t) and plugging this into the equation \n",
    "\n",
    "\\begin{align}\n",
    "\\ddot{x} & = \\frac{-k}{m_0 + Rt} x -\\frac{(\\gamma +R)}{m_0 + Rt} \\dot{x} + g\\\\\n",
    "\\end{align}\n",
    "\n",
    "Where m_0 is some initial mass\n",
    "\n",
    "Applying the intial method from above we obtain the two coupled ODE's* \n",
    "\n",
    "\\begin{align} \n",
    "y_0 & = x \\\\\n",
    "y_1 & = \\dot{x} \\\\\n",
    "y_2 & = \\ddot{x} \\\\\n",
    "\\end{align}\n",
    "\n",
    "We call the sum gamma + R the variable capital gamma\n",
    "\n",
    "\\begin{align} \n",
    "y_0 ' & = y_1 \\\\\n",
    "y_1 ' & = \\frac{-k}{m_0 + Rt} x -\\frac{\\Gamma}{m_0 + Rt} \\dot{x} + g\\\\\n",
    "\\end{align}"
   ]
  },
  {
   "cell_type": "code",
   "execution_count": 281,
   "metadata": {},
   "outputs": [],
   "source": [
    "def VariableMass_Oscillator(t, y, args):\n",
    "    \"\"\" A damped and forced Oscillating Droplet, described as set of two first-order ODEs.\n",
    "\n",
    "    Args:\n",
    "        m : mass equal to m_0 + Rt where R is some constant rate  \n",
    "        t: Time\n",
    "        y: Pendulum system vector [position,  velocity] \n",
    "        args['ka']: spring_const\n",
    "        args['m_0']: initial mass\n",
    "        args['gamma']: viscous damping\n",
    "        args['R']: Rate of mass change \n",
    "        args['capital gamma']: gamma + R \n",
    "        args['g']: gravitational const. \n",
    "\n",
    "    Returns:\n",
    "        dydt: ODE vector\n",
    "    \"\"\"\n",
    "\n",
    "    dzdt = np.zeros(2)\n",
    "\n",
    "    dzdt[0] = y[1]\n",
    "    dzdt[1] = (((-args['k'])/(args['m_0'] + args['R']*t))*y[0] - ((args['capital gamma'])/((args['m_0'] + args['R']*t)))*y[1] + args['g']) \n",
    "\n",
    "    return dzdt"
   ]
  },
  {
   "cell_type": "code",
   "execution_count": 325,
   "metadata": {},
   "outputs": [],
   "source": [
    "gravity_acc       = 10. # [m /s2]\n",
    "mass    = 0.001 #  test mass in [kg]\n",
    "damping_parameter = 0.00089 # viscosity of water @ room temperature [ kg /m^2]\n",
    "spring_const = 0.1 # arbitrary spring const. not sure what this would be in reality \n",
    "R = 0.0001 \n",
    "m_0 = 0.001 \n",
    "delta_m= 0.001\n",
    "x_c = 1\n",
    "\n",
    "N = 200\n",
    "t = np.linspace(0., 10., N+1) # [s] an array of time steps"
   ]
  },
  {
   "cell_type": "code",
   "execution_count": 326,
   "metadata": {},
   "outputs": [],
   "source": [
    "solve_args = {}\n",
    "solve_args['k'] = spring_const\n",
    "solve_args['m_0']  = m_0\n",
    "solve_args['g'] = gravity_acc\n",
    "solve_args['capital gamma'] = R + damping_parameter \n",
    "solve_args['R'] = R\n",
    "solve_args['m_0']  = m_0\n",
    "\n",
    "initial_pos    = 0. # [m]\n",
    "initial_vel = 0.1   # [m /s]\n",
    "initial_cond    = np.array([initial_pos, initial_vel])"
   ]
  },
  {
   "cell_type": "code",
   "execution_count": 327,
   "metadata": {},
   "outputs": [
    {
     "ename": "TypeError",
     "evalue": "RungeKutta4() missing 1 required positional argument: 'delta_m'",
     "output_type": "error",
     "traceback": [
      "\u001b[1;31m---------------------------------------------------------------------------\u001b[0m",
      "\u001b[1;31mTypeError\u001b[0m                                 Traceback (most recent call last)",
      "\u001b[1;32m<ipython-input-327-3d3f1f89c0fc>\u001b[0m in \u001b[0;36m<module>\u001b[1;34m()\u001b[0m\n\u001b[1;32m----> 1\u001b[1;33m \u001b[0my2\u001b[0m \u001b[1;33m=\u001b[0m \u001b[0mRungeKutta4\u001b[0m\u001b[1;33m(\u001b[0m\u001b[0mVariableMass_Oscillator\u001b[0m\u001b[1;33m,\u001b[0m \u001b[0minitial_cond\u001b[0m\u001b[1;33m,\u001b[0m \u001b[0mt\u001b[0m\u001b[1;33m,\u001b[0m \u001b[0msolve_args\u001b[0m\u001b[1;33m)\u001b[0m\u001b[1;33m\u001b[0m\u001b[0m\n\u001b[0m\u001b[0;32m      2\u001b[0m \u001b[1;31m#print(y2)\u001b[0m\u001b[1;33m\u001b[0m\u001b[1;33m\u001b[0m\u001b[0m\n",
      "\u001b[1;31mTypeError\u001b[0m: RungeKutta4() missing 1 required positional argument: 'delta_m'"
     ]
    }
   ],
   "source": [
    "y2 = RungeKutta4(VariableMass_Oscillator, initial_cond, t, solve_args)\n",
    "#print(y2) "
   ]
  },
  {
   "cell_type": "code",
   "execution_count": 203,
   "metadata": {},
   "outputs": [
    {
     "data": {
      "image/png": "[encoded data removed]",
      "text/plain": [
       "<Figure size 432x288 with 1 Axes>"
      ]
     },
     "metadata": {},
     "output_type": "display_data"
    }
   ],
   "source": [
    "plt.plot(t, y2[:,0], c='b', label='Angle')\n",
    "#plt.plot(t, solved, 'r--', label='Small angle approx.')\n",
    "plt.xlabel('Time (s)')\n",
    "plt.ylabel('Position (m)')\n",
    "plt.title('Evolution of Damped Droplet Oscillator Over Time With Variable mass')\n",
    "plt.legend(loc=1)\n",
    "plt.show()"
   ]
  },
  {
   "cell_type": "markdown",
   "metadata": {},
   "source": [
    "Now, given the paper written by R.Shaw on the subject, the next step would be to determine some cut off position x_c where the  a part of the mass delta m is ejected and the process starts anew with a new m_0. For my own personal benefit I would also like to go over the rk4 algorithm used as there were some steps I wasnt 100% sure I understood completley and I might consider writing my own function. Since changing topics though I found I was able to better focus on the computational and mathematical  aspects of the problem rather than the complicated physics. "
   ]
  },
  {
   "cell_type": "code",
   "execution_count": 204,
   "metadata": {},
   "outputs": [
    {
     "data": {
      "image/png": "[encoded data removed]",
      "text/plain": [
       "<Figure size 432x288 with 1 Axes>"
      ]
     },
     "metadata": {},
     "output_type": "display_data"
    }
   ],
   "source": [
    "plt.plot(t, y3[:,0], c='b', label='Angle')\n",
    "#plt.plot(t, solved, 'r--', label='Small angle approx.')\n",
    "plt.xlabel('Time (s)')\n",
    "plt.ylabel('Position (m)')\n",
    "plt.title('Evolution of Damped Droplet Oscillator Over Time With Variable mass')\n",
    "plt.legend(loc=1)\n",
    "plt.show()"
   ]
  },
  {
   "cell_type": "code",
   "execution_count": 303,
   "metadata": {},
   "outputs": [],
   "source": [
    "def RungeKutta4_Drop(func, y_0, x, x_c,delta_m, args={}):\n",
    "    \"\"\" Classical Runge-Kutta (RK4) approximation to a first-order ODE system\n",
    "    with initial conditions.\n",
    "\n",
    "    Args:\n",
    "        func: (callable) The first-order ODE system to be approximated.\n",
    "        y_0:  (array)    The initial condition.\n",
    "        x:    (array)    A sequence of time points for which to solve for y.\n",
    "        args: (dict)     Extra arguments to pass to function.\n",
    "\n",
    "    Out:\n",
    "        y:    (array)    The approximated solution of the system at each time in t,\n",
    "                         with the initial value y_0 in the first row.\n",
    "    \"\"\"\n",
    "\n",
    "    # Initialise the approximation array\n",
    "    y = np.zeros([len(x), len(y_0)])\n",
    "    #print(y.shape)\n",
    "    #drop_times = np.zeros([len(x)])\n",
    "    y[0] = y_0\n",
    "\n",
    "    # Loop through the time steps, approximating this step from the prev step\n",
    "    for i, x_i in enumerate(x[:-1]):\n",
    "        change = 0\n",
    "        h   = x[i+1] - x_i # size of the step\n",
    "\n",
    "        k_1 = h*func(x_i, y[i],change, args)\n",
    "        k_2 = h*func(x_i + h/2. , y[i] + k_1/2., change, args)\n",
    "        k_3 = h*func(x_i + h/2. , y[i] + k_2/2.,change,  args)\n",
    "        k_4 = h*func(x_i + h    , y[i] + k_3,change, args)\n",
    "\n",
    "        y[i+1] = y[i] + 1/6.*(k_1 + 2.*k_2 + 2.*k_3 + k_4) # RK4 step\n",
    "        \n",
    "        if y[i+1,0] < x_c: \n",
    "            print('no change')\n",
    "            continue \n",
    "        elif y[i+1,0] >= x_c: \n",
    "            #for j in range(len(drop_times)): \n",
    "                #drop_times[j] = x[i+1]\n",
    "            print('change')\n",
    "            change = delta_m \n",
    "            h   = x[i+1] - x_i # size of the step\n",
    "            \n",
    "            k_1 = h*func(x_i, y[i],change, args)\n",
    "            k_2 = h*func(x_i + h/2. , y[i] + k_1/2., change, args)\n",
    "            k_3 = h*func(x_i + h/2. , y[i] + k_2/2.,change,  args)\n",
    "            k_4 = h*func(x_i + h    , y[i] + k_3,change, args)\n",
    "            \n",
    "            y[i+1] = y[i] + 1/6.*(k_1 + 2.*k_2 + 2.*k_3 + k_4) # RK4 step\n",
    "            continue \n",
    "        #drop_times = np.delete(drop_times,0)\n",
    "            \n",
    "\n",
    "    return y"
   ]
  },
  {
   "cell_type": "code",
   "execution_count": 304,
   "metadata": {},
   "outputs": [],
   "source": [
    "def VariableMass_Oscillator_Drop(t, y,x_c,delta_m,args = {}):\n",
    "    \"\"\" A damped and forced Oscillating Droplet, described as set of two first-order ODEs.\n",
    "\n",
    "    Args:\n",
    "        m : mass equal to m_0 + Rt where R is some constant rate  \n",
    "        t: Time\n",
    "        y: Pendulum system vector [position,  velocity] \n",
    "        args['ka']: spring_const\n",
    "        args['m_0']: initial mass\n",
    "        args['gamma']: viscous damping\n",
    "        args['R']: Rate of mass change \n",
    "        args['capital gamma']: gamma + R \n",
    "        args['g']: gravitational const. \n",
    "\n",
    "    Returns:\n",
    "        dzdt: ODE vector\n",
    "    \"\"\"\n",
    "\n",
    "    dzdt = np.zeros(2)\n",
    "\n",
    "    dzdt[0] = y[1]\n",
    "    if y[0] < x_c: \n",
    "        dzdt[1] = (((-args['k'])/(args['m_0'] + args['R']*t - delta_m))*y[0] - ((args['capital gamma'])/((args['m_0'] + args['R']*t - delta_m)))*y[1] + args['g']) \n",
    "    elif y[0] >= x_c: \n",
    "        dzdt[1] = (((-args['k'])/(args['m_0'] + args['R']*t))*y[0] - ((args['capital gamma'])/((args['m_0'] + args['R']*t)))*y[1] + args['g']) \n",
    "    return dzdt"
   ]
  },
  {
   "cell_type": "code",
   "execution_count": 305,
   "metadata": {},
   "outputs": [],
   "source": [
    "gravity_acc       = 10. # [m /s2]\n",
    "damping_parameter = 0.00089 # viscosity of water @ room temperature [ kg /m^2]\n",
    "spring_const = 0.1 # arbitrary spring const. not sure what this would be in reality \n",
    "R = 0.0001 \n",
    "m_0 = 0.01 \n",
    "delta_m= 0.1\n",
    "x_c = 0.200\n",
    "\n",
    "N = 200\n",
    "t = np.linspace(0., 10., N+1) # [s] an array of time steps"
   ]
  },
  {
   "cell_type": "code",
   "execution_count": 323,
   "metadata": {},
   "outputs": [],
   "source": [
    "solve_args          = {}\n",
    "solve_args['k'] = spring_const\n",
    "solve_args['m_0']  = m_0\n",
    "solve_args['g'] = gravity_acc\n",
    "solve_args['capital gamma'] = R + damping_parameter \n",
    "solve_args['R'] = R\n",
    "solve_args['m_0']  = m_0\n",
    "\n",
    "initial_pos    = 0. # [m]\n",
    "initial_vel = 0.01   # [m /s]\n",
    "initial_cond    = np.array([initial_pos, initial_vel])"
   ]
  },
  {
   "cell_type": "code",
   "execution_count": 310,
   "metadata": {},
   "outputs": [
    {
     "ename": "KeyError",
     "evalue": "'k'",
     "output_type": "error",
     "traceback": [
      "\u001b[1;31m---------------------------------------------------------------------------\u001b[0m",
      "\u001b[1;31mKeyError\u001b[0m                                  Traceback (most recent call last)",
      "\u001b[1;32m<ipython-input-310-c5607a71933d>\u001b[0m in \u001b[0;36m<module>\u001b[1;34m()\u001b[0m\n\u001b[1;32m----> 1\u001b[1;33m \u001b[0my4\u001b[0m\u001b[1;33m,\u001b[0m\u001b[0mtimes\u001b[0m\u001b[1;33m=\u001b[0m \u001b[0mRungeKutta4_Drop\u001b[0m\u001b[1;33m(\u001b[0m\u001b[0mVariableMass_Oscillator_Drop\u001b[0m\u001b[1;33m,\u001b[0m \u001b[0minitial_cond\u001b[0m\u001b[1;33m,\u001b[0m \u001b[0mt\u001b[0m\u001b[1;33m,\u001b[0m\u001b[0mx_c\u001b[0m\u001b[1;33m,\u001b[0m\u001b[0mdelta_m\u001b[0m\u001b[1;33m,\u001b[0m \u001b[0msolve_args\u001b[0m\u001b[1;33m)\u001b[0m\u001b[1;33m\u001b[0m\u001b[0m\n\u001b[0m\u001b[0;32m      2\u001b[0m \u001b[0mprint\u001b[0m\u001b[1;33m(\u001b[0m\u001b[0mt\u001b[0m\u001b[1;33m)\u001b[0m\u001b[1;33m\u001b[0m\u001b[0m\n\u001b[0;32m      3\u001b[0m \u001b[0mprint\u001b[0m\u001b[1;33m(\u001b[0m\u001b[0mtimes\u001b[0m\u001b[1;33m)\u001b[0m\u001b[1;33m\u001b[0m\u001b[0m\n\u001b[0;32m      4\u001b[0m \u001b[1;31m#times coming at 10 for some reason when the\u001b[0m\u001b[1;33m\u001b[0m\u001b[1;33m\u001b[0m\u001b[0m\n",
      "\u001b[1;32m<ipython-input-303-714fb7e03b90>\u001b[0m in \u001b[0;36mRungeKutta4_Drop\u001b[1;34m(func, y_0, x, x_c, delta_m, args)\u001b[0m\n\u001b[0;32m     25\u001b[0m         \u001b[0mh\u001b[0m   \u001b[1;33m=\u001b[0m \u001b[0mx\u001b[0m\u001b[1;33m[\u001b[0m\u001b[0mi\u001b[0m\u001b[1;33m+\u001b[0m\u001b[1;36m1\u001b[0m\u001b[1;33m]\u001b[0m \u001b[1;33m-\u001b[0m \u001b[0mx_i\u001b[0m \u001b[1;31m# size of the step\u001b[0m\u001b[1;33m\u001b[0m\u001b[0m\n\u001b[0;32m     26\u001b[0m \u001b[1;33m\u001b[0m\u001b[0m\n\u001b[1;32m---> 27\u001b[1;33m         \u001b[0mk_1\u001b[0m \u001b[1;33m=\u001b[0m \u001b[0mh\u001b[0m\u001b[1;33m*\u001b[0m\u001b[0mfunc\u001b[0m\u001b[1;33m(\u001b[0m\u001b[0mx_i\u001b[0m\u001b[1;33m,\u001b[0m \u001b[0my\u001b[0m\u001b[1;33m[\u001b[0m\u001b[0mi\u001b[0m\u001b[1;33m]\u001b[0m\u001b[1;33m,\u001b[0m\u001b[0mchange\u001b[0m\u001b[1;33m,\u001b[0m \u001b[0margs\u001b[0m\u001b[1;33m)\u001b[0m\u001b[1;33m\u001b[0m\u001b[0m\n\u001b[0m\u001b[0;32m     28\u001b[0m         \u001b[0mk_2\u001b[0m \u001b[1;33m=\u001b[0m \u001b[0mh\u001b[0m\u001b[1;33m*\u001b[0m\u001b[0mfunc\u001b[0m\u001b[1;33m(\u001b[0m\u001b[0mx_i\u001b[0m \u001b[1;33m+\u001b[0m \u001b[0mh\u001b[0m\u001b[1;33m/\u001b[0m\u001b[1;36m2.\u001b[0m \u001b[1;33m,\u001b[0m \u001b[0my\u001b[0m\u001b[1;33m[\u001b[0m\u001b[0mi\u001b[0m\u001b[1;33m]\u001b[0m \u001b[1;33m+\u001b[0m \u001b[0mk_1\u001b[0m\u001b[1;33m/\u001b[0m\u001b[1;36m2.\u001b[0m\u001b[1;33m,\u001b[0m \u001b[0mchange\u001b[0m\u001b[1;33m,\u001b[0m \u001b[0margs\u001b[0m\u001b[1;33m)\u001b[0m\u001b[1;33m\u001b[0m\u001b[0m\n\u001b[0;32m     29\u001b[0m         \u001b[0mk_3\u001b[0m \u001b[1;33m=\u001b[0m \u001b[0mh\u001b[0m\u001b[1;33m*\u001b[0m\u001b[0mfunc\u001b[0m\u001b[1;33m(\u001b[0m\u001b[0mx_i\u001b[0m \u001b[1;33m+\u001b[0m \u001b[0mh\u001b[0m\u001b[1;33m/\u001b[0m\u001b[1;36m2.\u001b[0m \u001b[1;33m,\u001b[0m \u001b[0my\u001b[0m\u001b[1;33m[\u001b[0m\u001b[0mi\u001b[0m\u001b[1;33m]\u001b[0m \u001b[1;33m+\u001b[0m \u001b[0mk_2\u001b[0m\u001b[1;33m/\u001b[0m\u001b[1;36m2.\u001b[0m\u001b[1;33m,\u001b[0m\u001b[0mchange\u001b[0m\u001b[1;33m,\u001b[0m  \u001b[0margs\u001b[0m\u001b[1;33m)\u001b[0m\u001b[1;33m\u001b[0m\u001b[0m\n",
      "\u001b[1;32m<ipython-input-304-69480ba70024>\u001b[0m in \u001b[0;36mVariableMass_Oscillator_Drop\u001b[1;34m(t, y, x_c, delta_m, args)\u001b[0m\n\u001b[0;32m     23\u001b[0m         \u001b[0mdzdt\u001b[0m\u001b[1;33m[\u001b[0m\u001b[1;36m1\u001b[0m\u001b[1;33m]\u001b[0m \u001b[1;33m=\u001b[0m \u001b[1;33m(\u001b[0m\u001b[1;33m(\u001b[0m\u001b[1;33m(\u001b[0m\u001b[1;33m-\u001b[0m\u001b[0margs\u001b[0m\u001b[1;33m[\u001b[0m\u001b[1;34m'k'\u001b[0m\u001b[1;33m]\u001b[0m\u001b[1;33m)\u001b[0m\u001b[1;33m/\u001b[0m\u001b[1;33m(\u001b[0m\u001b[0margs\u001b[0m\u001b[1;33m[\u001b[0m\u001b[1;34m'm_0'\u001b[0m\u001b[1;33m]\u001b[0m \u001b[1;33m+\u001b[0m \u001b[0margs\u001b[0m\u001b[1;33m[\u001b[0m\u001b[1;34m'R'\u001b[0m\u001b[1;33m]\u001b[0m\u001b[1;33m*\u001b[0m\u001b[0mt\u001b[0m \u001b[1;33m-\u001b[0m \u001b[0mdelta_m\u001b[0m\u001b[1;33m)\u001b[0m\u001b[1;33m)\u001b[0m\u001b[1;33m*\u001b[0m\u001b[0my\u001b[0m\u001b[1;33m[\u001b[0m\u001b[1;36m0\u001b[0m\u001b[1;33m]\u001b[0m \u001b[1;33m-\u001b[0m \u001b[1;33m(\u001b[0m\u001b[1;33m(\u001b[0m\u001b[0margs\u001b[0m\u001b[1;33m[\u001b[0m\u001b[1;34m'capital gamma'\u001b[0m\u001b[1;33m]\u001b[0m\u001b[1;33m)\u001b[0m\u001b[1;33m/\u001b[0m\u001b[1;33m(\u001b[0m\u001b[1;33m(\u001b[0m\u001b[0margs\u001b[0m\u001b[1;33m[\u001b[0m\u001b[1;34m'm_0'\u001b[0m\u001b[1;33m]\u001b[0m \u001b[1;33m+\u001b[0m \u001b[0margs\u001b[0m\u001b[1;33m[\u001b[0m\u001b[1;34m'R'\u001b[0m\u001b[1;33m]\u001b[0m\u001b[1;33m*\u001b[0m\u001b[0mt\u001b[0m \u001b[1;33m-\u001b[0m \u001b[0mdelta_m\u001b[0m\u001b[1;33m)\u001b[0m\u001b[1;33m)\u001b[0m\u001b[1;33m)\u001b[0m\u001b[1;33m*\u001b[0m\u001b[0my\u001b[0m\u001b[1;33m[\u001b[0m\u001b[1;36m1\u001b[0m\u001b[1;33m]\u001b[0m \u001b[1;33m+\u001b[0m \u001b[0margs\u001b[0m\u001b[1;33m[\u001b[0m\u001b[1;34m'g'\u001b[0m\u001b[1;33m]\u001b[0m\u001b[1;33m)\u001b[0m\u001b[1;33m\u001b[0m\u001b[0m\n\u001b[0;32m     24\u001b[0m     \u001b[1;32melif\u001b[0m \u001b[0my\u001b[0m\u001b[1;33m[\u001b[0m\u001b[1;36m0\u001b[0m\u001b[1;33m]\u001b[0m \u001b[1;33m>=\u001b[0m \u001b[0mx_c\u001b[0m\u001b[1;33m:\u001b[0m\u001b[1;33m\u001b[0m\u001b[0m\n\u001b[1;32m---> 25\u001b[1;33m         \u001b[0mdzdt\u001b[0m\u001b[1;33m[\u001b[0m\u001b[1;36m1\u001b[0m\u001b[1;33m]\u001b[0m \u001b[1;33m=\u001b[0m \u001b[1;33m(\u001b[0m\u001b[1;33m(\u001b[0m\u001b[1;33m(\u001b[0m\u001b[1;33m-\u001b[0m\u001b[0margs\u001b[0m\u001b[1;33m[\u001b[0m\u001b[1;34m'k'\u001b[0m\u001b[1;33m]\u001b[0m\u001b[1;33m)\u001b[0m\u001b[1;33m/\u001b[0m\u001b[1;33m(\u001b[0m\u001b[0margs\u001b[0m\u001b[1;33m[\u001b[0m\u001b[1;34m'm_0'\u001b[0m\u001b[1;33m]\u001b[0m \u001b[1;33m+\u001b[0m \u001b[0margs\u001b[0m\u001b[1;33m[\u001b[0m\u001b[1;34m'R'\u001b[0m\u001b[1;33m]\u001b[0m\u001b[1;33m*\u001b[0m\u001b[0mt\u001b[0m\u001b[1;33m)\u001b[0m\u001b[1;33m)\u001b[0m\u001b[1;33m*\u001b[0m\u001b[0my\u001b[0m\u001b[1;33m[\u001b[0m\u001b[1;36m0\u001b[0m\u001b[1;33m]\u001b[0m \u001b[1;33m-\u001b[0m \u001b[1;33m(\u001b[0m\u001b[1;33m(\u001b[0m\u001b[0margs\u001b[0m\u001b[1;33m[\u001b[0m\u001b[1;34m'capital gamma'\u001b[0m\u001b[1;33m]\u001b[0m\u001b[1;33m)\u001b[0m\u001b[1;33m/\u001b[0m\u001b[1;33m(\u001b[0m\u001b[1;33m(\u001b[0m\u001b[0margs\u001b[0m\u001b[1;33m[\u001b[0m\u001b[1;34m'm_0'\u001b[0m\u001b[1;33m]\u001b[0m \u001b[1;33m+\u001b[0m \u001b[0margs\u001b[0m\u001b[1;33m[\u001b[0m\u001b[1;34m'R'\u001b[0m\u001b[1;33m]\u001b[0m\u001b[1;33m*\u001b[0m\u001b[0mt\u001b[0m\u001b[1;33m)\u001b[0m\u001b[1;33m)\u001b[0m\u001b[1;33m)\u001b[0m\u001b[1;33m*\u001b[0m\u001b[0my\u001b[0m\u001b[1;33m[\u001b[0m\u001b[1;36m1\u001b[0m\u001b[1;33m]\u001b[0m \u001b[1;33m+\u001b[0m \u001b[0margs\u001b[0m\u001b[1;33m[\u001b[0m\u001b[1;34m'g'\u001b[0m\u001b[1;33m]\u001b[0m\u001b[1;33m)\u001b[0m\u001b[1;33m\u001b[0m\u001b[0m\n\u001b[0m\u001b[0;32m     26\u001b[0m     \u001b[1;32mreturn\u001b[0m \u001b[0mdzdt\u001b[0m\u001b[1;33m\u001b[0m\u001b[0m\n",
      "\u001b[1;31mKeyError\u001b[0m: 'k'"
     ]
    }
   ],
   "source": [
    "y4,times= RungeKutta4_Drop(VariableMass_Oscillator_Drop, initial_cond, t,x_c,delta_m, solve_args)\n",
    "print(t)\n",
    "print(times)\n",
    "#times coming at 10 for some reason when the "
   ]
  },
  {
   "cell_type": "code",
   "execution_count": 268,
   "metadata": {},
   "outputs": [
    {
     "data": {
      "image/png": "[encoded data removed]",
      "text/plain": [
       "<Figure size 432x288 with 1 Axes>"
      ]
     },
     "metadata": {},
     "output_type": "display_data"
    }
   ],
   "source": [
    "plt.plot(t, y4[:,0], c='b', label='Position')\n",
    "#plt.plot(t, 0.1*y4[:,1], c='r', label='Angle')\n",
    "#plt.plot(t, solved, 'r--', label='Small angle approx.')\n",
    "plt.xlabel('Time (s)')\n",
    "plt.ylabel('Position (m)')\n",
    "plt.title('Evolution of Damped Droplet Oscillator Over Time With Variable mass')\n",
    "plt.legend(loc=1)\n",
    "plt.show()"
   ]
  },
  {
   "cell_type": "code",
   "execution_count": 254,
   "metadata": {},
   "outputs": [],
   "source": [
    "def mass_of_drop(t, delta_m, args={}): \n",
    "    mass = (args['m_0'] + args['R']*t - delta_m)\n",
    "    \n",
    "    return mass \n",
    "                 "
   ]
  },
  {
   "cell_type": "code",
   "execution_count": null,
   "metadata": {},
   "outputs": [],
   "source": []
  },
  {
   "cell_type": "code",
   "execution_count": 256,
   "metadata": {},
   "outputs": [],
   "source": [
    "change_in_mass = mass_of_drop(t, delta_m, solve_args)"
   ]
  },
  {
   "cell_type": "code",
   "execution_count": 257,
   "metadata": {},
   "outputs": [
    {
     "data": {
      "text/plain": [
       "[<matplotlib.lines.Line2D at 0x28e7ee5c9e8>]"
      ]
     },
     "execution_count": 257,
     "metadata": {},
     "output_type": "execute_result"
    },
    {
     "data": {
      "image/png": "[encoded data removed]",
      "text/plain": [
       "<Figure size 432x288 with 1 Axes>"
      ]
     },
     "metadata": {},
     "output_type": "display_data"
    }
   ],
   "source": [
    "plt.plot(t, change_in_mass, c='b', label='Position')"
   ]
  },
  {
   "cell_type": "code",
   "execution_count": 319,
   "metadata": {},
   "outputs": [],
   "source": [
    "def RungeKutta4(func, y_0, x,x_c,delta_m, args={}):\n",
    "    \"\"\" Classical Runge-Kutta (RK4) approximation to a first-order ODE system\n",
    "    with initial conditions.\n",
    "\n",
    "    Args:\n",
    "        func: (callable) The first-order ODE system to be approximated.\n",
    "        y_0:  (array)    The initial condition.\n",
    "        x:    (array)    A sequence of time points for which to solve for y.\n",
    "        args: (dict)     Extra arguments to pass to function.\n",
    "\n",
    "    Out:\n",
    "        y:    (array)    The approximated solution of the system at each time in t,\n",
    "                         with the initial value y_0 in the first row.\n",
    "    \"\"\"\n",
    "\n",
    "    # Initialise the approximation array\n",
    "    y = np.zeros([len(x), len(y_0)])\n",
    "    y[0] = y_0\n",
    "\n",
    "    # Loop through the time steps, approximating this step from the prev step\n",
    "    for i, x_i in enumerate(x[:-1]):\n",
    "\n",
    "        h   = x[i+1] - x_i # size of the step\n",
    "\n",
    "        k_1 = h*func(x_i, y[i], delta_m, args)\n",
    "        k_2 = h*func(x_i + h/2. , y[i] + k_1/2.,x_c,delta_m, args)\n",
    "        k_3 = h*func(x_i + h/2. , y[i] + k_2/2.,x_c,delta_m, args)\n",
    "        k_4 = h*func(x_i + h    , y[i] + k_3,x_c,delta_m, args)\n",
    "\n",
    "        y[i+1] = y[i] + 1/6.*(k_1 + 2.*k_2 + 2.*k_3 + k_4) # RK4 step\n",
    "\n",
    "    return y"
   ]
  },
  {
   "cell_type": "code",
   "execution_count": 322,
   "metadata": {},
   "outputs": [
    {
     "ename": "KeyError",
     "evalue": "'k'",
     "output_type": "error",
     "traceback": [
      "\u001b[1;31m---------------------------------------------------------------------------\u001b[0m",
      "\u001b[1;31mKeyError\u001b[0m                                  Traceback (most recent call last)",
      "\u001b[1;32m<ipython-input-322-2bd82db17780>\u001b[0m in \u001b[0;36m<module>\u001b[1;34m()\u001b[0m\n\u001b[1;32m----> 1\u001b[1;33m \u001b[0my5\u001b[0m \u001b[1;33m=\u001b[0m \u001b[0mRungeKutta4\u001b[0m\u001b[1;33m(\u001b[0m\u001b[0mVariableMass_Oscillator_Drop\u001b[0m\u001b[1;33m,\u001b[0m \u001b[0minitial_cond\u001b[0m\u001b[1;33m,\u001b[0m \u001b[0mt\u001b[0m\u001b[1;33m,\u001b[0m \u001b[0mx_c\u001b[0m\u001b[1;33m,\u001b[0m\u001b[0mdelta_m\u001b[0m\u001b[1;33m,\u001b[0m\u001b[0msolve_args\u001b[0m\u001b[1;33m)\u001b[0m\u001b[1;33m\u001b[0m\u001b[0m\n\u001b[0m",
      "\u001b[1;32m<ipython-input-319-39d69d0ab58a>\u001b[0m in \u001b[0;36mRungeKutta4\u001b[1;34m(func, y_0, x, x_c, delta_m, args)\u001b[0m\n\u001b[0;32m     23\u001b[0m         \u001b[0mh\u001b[0m   \u001b[1;33m=\u001b[0m \u001b[0mx\u001b[0m\u001b[1;33m[\u001b[0m\u001b[0mi\u001b[0m\u001b[1;33m+\u001b[0m\u001b[1;36m1\u001b[0m\u001b[1;33m]\u001b[0m \u001b[1;33m-\u001b[0m \u001b[0mx_i\u001b[0m \u001b[1;31m# size of the step\u001b[0m\u001b[1;33m\u001b[0m\u001b[0m\n\u001b[0;32m     24\u001b[0m \u001b[1;33m\u001b[0m\u001b[0m\n\u001b[1;32m---> 25\u001b[1;33m         \u001b[0mk_1\u001b[0m \u001b[1;33m=\u001b[0m \u001b[0mh\u001b[0m\u001b[1;33m*\u001b[0m\u001b[0mfunc\u001b[0m\u001b[1;33m(\u001b[0m\u001b[0mx_i\u001b[0m\u001b[1;33m,\u001b[0m \u001b[0my\u001b[0m\u001b[1;33m[\u001b[0m\u001b[0mi\u001b[0m\u001b[1;33m]\u001b[0m\u001b[1;33m,\u001b[0m \u001b[0mdelta_m\u001b[0m\u001b[1;33m,\u001b[0m \u001b[0margs\u001b[0m\u001b[1;33m)\u001b[0m\u001b[1;33m\u001b[0m\u001b[0m\n\u001b[0m\u001b[0;32m     26\u001b[0m         \u001b[0mk_2\u001b[0m \u001b[1;33m=\u001b[0m \u001b[0mh\u001b[0m\u001b[1;33m*\u001b[0m\u001b[0mfunc\u001b[0m\u001b[1;33m(\u001b[0m\u001b[0mx_i\u001b[0m \u001b[1;33m+\u001b[0m \u001b[0mh\u001b[0m\u001b[1;33m/\u001b[0m\u001b[1;36m2.\u001b[0m \u001b[1;33m,\u001b[0m \u001b[0my\u001b[0m\u001b[1;33m[\u001b[0m\u001b[0mi\u001b[0m\u001b[1;33m]\u001b[0m \u001b[1;33m+\u001b[0m \u001b[0mk_1\u001b[0m\u001b[1;33m/\u001b[0m\u001b[1;36m2.\u001b[0m\u001b[1;33m,\u001b[0m\u001b[0mx_c\u001b[0m\u001b[1;33m,\u001b[0m\u001b[0mdelta_m\u001b[0m\u001b[1;33m,\u001b[0m \u001b[0margs\u001b[0m\u001b[1;33m)\u001b[0m\u001b[1;33m\u001b[0m\u001b[0m\n\u001b[0;32m     27\u001b[0m         \u001b[0mk_3\u001b[0m \u001b[1;33m=\u001b[0m \u001b[0mh\u001b[0m\u001b[1;33m*\u001b[0m\u001b[0mfunc\u001b[0m\u001b[1;33m(\u001b[0m\u001b[0mx_i\u001b[0m \u001b[1;33m+\u001b[0m \u001b[0mh\u001b[0m\u001b[1;33m/\u001b[0m\u001b[1;36m2.\u001b[0m \u001b[1;33m,\u001b[0m \u001b[0my\u001b[0m\u001b[1;33m[\u001b[0m\u001b[0mi\u001b[0m\u001b[1;33m]\u001b[0m \u001b[1;33m+\u001b[0m \u001b[0mk_2\u001b[0m\u001b[1;33m/\u001b[0m\u001b[1;36m2.\u001b[0m\u001b[1;33m,\u001b[0m\u001b[0mx_c\u001b[0m\u001b[1;33m,\u001b[0m\u001b[0mdelta_m\u001b[0m\u001b[1;33m,\u001b[0m \u001b[0margs\u001b[0m\u001b[1;33m)\u001b[0m\u001b[1;33m\u001b[0m\u001b[0m\n",
      "\u001b[1;32m<ipython-input-304-69480ba70024>\u001b[0m in \u001b[0;36mVariableMass_Oscillator_Drop\u001b[1;34m(t, y, x_c, delta_m, args)\u001b[0m\n\u001b[0;32m     21\u001b[0m     \u001b[0mdzdt\u001b[0m\u001b[1;33m[\u001b[0m\u001b[1;36m0\u001b[0m\u001b[1;33m]\u001b[0m \u001b[1;33m=\u001b[0m \u001b[0my\u001b[0m\u001b[1;33m[\u001b[0m\u001b[1;36m1\u001b[0m\u001b[1;33m]\u001b[0m\u001b[1;33m\u001b[0m\u001b[0m\n\u001b[0;32m     22\u001b[0m     \u001b[1;32mif\u001b[0m \u001b[0my\u001b[0m\u001b[1;33m[\u001b[0m\u001b[1;36m0\u001b[0m\u001b[1;33m]\u001b[0m \u001b[1;33m<\u001b[0m \u001b[0mx_c\u001b[0m\u001b[1;33m:\u001b[0m\u001b[1;33m\u001b[0m\u001b[0m\n\u001b[1;32m---> 23\u001b[1;33m         \u001b[0mdzdt\u001b[0m\u001b[1;33m[\u001b[0m\u001b[1;36m1\u001b[0m\u001b[1;33m]\u001b[0m \u001b[1;33m=\u001b[0m \u001b[1;33m(\u001b[0m\u001b[1;33m(\u001b[0m\u001b[1;33m(\u001b[0m\u001b[1;33m-\u001b[0m\u001b[0margs\u001b[0m\u001b[1;33m[\u001b[0m\u001b[1;34m'k'\u001b[0m\u001b[1;33m]\u001b[0m\u001b[1;33m)\u001b[0m\u001b[1;33m/\u001b[0m\u001b[1;33m(\u001b[0m\u001b[0margs\u001b[0m\u001b[1;33m[\u001b[0m\u001b[1;34m'm_0'\u001b[0m\u001b[1;33m]\u001b[0m \u001b[1;33m+\u001b[0m \u001b[0margs\u001b[0m\u001b[1;33m[\u001b[0m\u001b[1;34m'R'\u001b[0m\u001b[1;33m]\u001b[0m\u001b[1;33m*\u001b[0m\u001b[0mt\u001b[0m \u001b[1;33m-\u001b[0m \u001b[0mdelta_m\u001b[0m\u001b[1;33m)\u001b[0m\u001b[1;33m)\u001b[0m\u001b[1;33m*\u001b[0m\u001b[0my\u001b[0m\u001b[1;33m[\u001b[0m\u001b[1;36m0\u001b[0m\u001b[1;33m]\u001b[0m \u001b[1;33m-\u001b[0m \u001b[1;33m(\u001b[0m\u001b[1;33m(\u001b[0m\u001b[0margs\u001b[0m\u001b[1;33m[\u001b[0m\u001b[1;34m'capital gamma'\u001b[0m\u001b[1;33m]\u001b[0m\u001b[1;33m)\u001b[0m\u001b[1;33m/\u001b[0m\u001b[1;33m(\u001b[0m\u001b[1;33m(\u001b[0m\u001b[0margs\u001b[0m\u001b[1;33m[\u001b[0m\u001b[1;34m'm_0'\u001b[0m\u001b[1;33m]\u001b[0m \u001b[1;33m+\u001b[0m \u001b[0margs\u001b[0m\u001b[1;33m[\u001b[0m\u001b[1;34m'R'\u001b[0m\u001b[1;33m]\u001b[0m\u001b[1;33m*\u001b[0m\u001b[0mt\u001b[0m \u001b[1;33m-\u001b[0m \u001b[0mdelta_m\u001b[0m\u001b[1;33m)\u001b[0m\u001b[1;33m)\u001b[0m\u001b[1;33m)\u001b[0m\u001b[1;33m*\u001b[0m\u001b[0my\u001b[0m\u001b[1;33m[\u001b[0m\u001b[1;36m1\u001b[0m\u001b[1;33m]\u001b[0m \u001b[1;33m+\u001b[0m \u001b[0margs\u001b[0m\u001b[1;33m[\u001b[0m\u001b[1;34m'g'\u001b[0m\u001b[1;33m]\u001b[0m\u001b[1;33m)\u001b[0m\u001b[1;33m\u001b[0m\u001b[0m\n\u001b[0m\u001b[0;32m     24\u001b[0m     \u001b[1;32melif\u001b[0m \u001b[0my\u001b[0m\u001b[1;33m[\u001b[0m\u001b[1;36m0\u001b[0m\u001b[1;33m]\u001b[0m \u001b[1;33m>=\u001b[0m \u001b[0mx_c\u001b[0m\u001b[1;33m:\u001b[0m\u001b[1;33m\u001b[0m\u001b[0m\n\u001b[0;32m     25\u001b[0m         \u001b[0mdzdt\u001b[0m\u001b[1;33m[\u001b[0m\u001b[1;36m1\u001b[0m\u001b[1;33m]\u001b[0m \u001b[1;33m=\u001b[0m \u001b[1;33m(\u001b[0m\u001b[1;33m(\u001b[0m\u001b[1;33m(\u001b[0m\u001b[1;33m-\u001b[0m\u001b[0margs\u001b[0m\u001b[1;33m[\u001b[0m\u001b[1;34m'k'\u001b[0m\u001b[1;33m]\u001b[0m\u001b[1;33m)\u001b[0m\u001b[1;33m/\u001b[0m\u001b[1;33m(\u001b[0m\u001b[0margs\u001b[0m\u001b[1;33m[\u001b[0m\u001b[1;34m'm_0'\u001b[0m\u001b[1;33m]\u001b[0m \u001b[1;33m+\u001b[0m \u001b[0margs\u001b[0m\u001b[1;33m[\u001b[0m\u001b[1;34m'R'\u001b[0m\u001b[1;33m]\u001b[0m\u001b[1;33m*\u001b[0m\u001b[0mt\u001b[0m\u001b[1;33m)\u001b[0m\u001b[1;33m)\u001b[0m\u001b[1;33m*\u001b[0m\u001b[0my\u001b[0m\u001b[1;33m[\u001b[0m\u001b[1;36m0\u001b[0m\u001b[1;33m]\u001b[0m \u001b[1;33m-\u001b[0m \u001b[1;33m(\u001b[0m\u001b[1;33m(\u001b[0m\u001b[0margs\u001b[0m\u001b[1;33m[\u001b[0m\u001b[1;34m'capital gamma'\u001b[0m\u001b[1;33m]\u001b[0m\u001b[1;33m)\u001b[0m\u001b[1;33m/\u001b[0m\u001b[1;33m(\u001b[0m\u001b[1;33m(\u001b[0m\u001b[0margs\u001b[0m\u001b[1;33m[\u001b[0m\u001b[1;34m'm_0'\u001b[0m\u001b[1;33m]\u001b[0m \u001b[1;33m+\u001b[0m \u001b[0margs\u001b[0m\u001b[1;33m[\u001b[0m\u001b[1;34m'R'\u001b[0m\u001b[1;33m]\u001b[0m\u001b[1;33m*\u001b[0m\u001b[0mt\u001b[0m\u001b[1;33m)\u001b[0m\u001b[1;33m)\u001b[0m\u001b[1;33m)\u001b[0m\u001b[1;33m*\u001b[0m\u001b[0my\u001b[0m\u001b[1;33m[\u001b[0m\u001b[1;36m1\u001b[0m\u001b[1;33m]\u001b[0m \u001b[1;33m+\u001b[0m \u001b[0margs\u001b[0m\u001b[1;33m[\u001b[0m\u001b[1;34m'g'\u001b[0m\u001b[1;33m]\u001b[0m\u001b[1;33m)\u001b[0m\u001b[1;33m\u001b[0m\u001b[0m\n",
      "\u001b[1;31mKeyError\u001b[0m: 'k'"
     ]
    }
   ],
   "source": [
    "y5 = RungeKutta4(VariableMass_Oscillator_Drop, initial_cond, t, x_c,delta_m,solve_args)"
   ]
  },
  {
   "cell_type": "code",
   "execution_count": 163,
   "metadata": {},
   "outputs": [],
   "source": [
    "\n",
    "\n",
    "#plot mass v time \n",
    "#for some reason periodic again!? \n",
    "#times coming out at periodic intervals as well, didnt seem super chaotic even when it wasnt as simplisti as before \n"
   ]
  },
  {
   "cell_type": "code",
   "execution_count": null,
   "metadata": {},
   "outputs": [],
   "source": []
  }
 ],
 "metadata": {
  "kernelspec": {
   "display_name": "Python 3",
   "language": "python",
   "name": "python3"
  },
  "language_info": {
   "codemirror_mode": {
    "name": "ipython",
    "version": 3
   },
   "file_extension": ".py",
   "mimetype": "text/x-python",
   "name": "python",
   "nbconvert_exporter": "python",
   "pygments_lexer": "ipython3",
   "version": "3.6.5"
  }
 },
 "nbformat": 4,
 "nbformat_minor": 2
}
